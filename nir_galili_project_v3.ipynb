{
 "cells": [
  {
   "cell_type": "markdown",
   "id": "f7cb1d91",
   "metadata": {},
   "source": [
    "# Download the data and prepare it for analysis"
   ]
  },
  {
   "cell_type": "markdown",
   "id": "26f17f22",
   "metadata": {},
   "source": [
    "## Project description\n",
    "We decided to open a small robot-run cafe in Los Angeles. The project is promising but expensive, so  decide to try to attract investors. They’re interested in the current market conditions — will we be able to maintain your success when the novelty of robot waiters wears off?\n",
    "We been asked to prepare some market research. We have open-source data on restaurants in LA."
   ]
  },
  {
   "cell_type": "markdown",
   "id": "855aede8",
   "metadata": {},
   "source": [
    "## Import"
   ]
  },
  {
   "cell_type": "code",
   "execution_count": null,
   "id": "137919f5",
   "metadata": {},
   "outputs": [],
   "source": [
    "!pip install usaddress"
   ]
  },
  {
   "cell_type": "code",
   "execution_count": null,
   "id": "ee81d0c7",
   "metadata": {},
   "outputs": [],
   "source": [
    "import pandas as pd\n",
    "import numpy as np\n",
    "import plotly.express as px\n",
    "import plotly.graph_objects as go\n",
    "from scipy import stats as st\n",
    "import matplotlib.pyplot as plt\n",
    "import seaborn as sns\n",
    "from scipy import stats as st\n",
    "import datetime as dt\n",
    "import usaddress\n",
    "\n",
    "%matplotlib inline"
   ]
  },
  {
   "cell_type": "markdown",
   "id": "2d11c3e5",
   "metadata": {},
   "source": [
    "## Load data"
   ]
  },
  {
   "cell_type": "code",
   "execution_count": null,
   "id": "f0f60401",
   "metadata": {},
   "outputs": [],
   "source": [
    "try:\n",
    "    rest_data = pd.read_csv('rest_data_us.csv', sep=',')\n",
    "except:\n",
    "    rest_data = pd.read_csv('/datasets/rest_data_us.csv', sep=',')"
   ]
  },
  {
   "cell_type": "markdown",
   "id": "79f0cdbc",
   "metadata": {},
   "source": [
    "## Prepare data for analysis"
   ]
  },
  {
   "cell_type": "markdown",
   "id": "2d5b6c42",
   "metadata": {},
   "source": [
    "- object_name — establishment name\n",
    "- chain — chain establishment (TRUE/FALSE)\n",
    "- object_type — establishment type\n",
    "- address — address\n",
    "- number — number of seats"
   ]
  },
  {
   "cell_type": "code",
   "execution_count": null,
   "id": "187b16a5",
   "metadata": {},
   "outputs": [],
   "source": [
    "rest_data.head()"
   ]
  },
  {
   "cell_type": "code",
   "execution_count": null,
   "id": "a0dbf457",
   "metadata": {
    "scrolled": true
   },
   "outputs": [],
   "source": [
    "rest_data.info()"
   ]
  },
  {
   "cell_type": "markdown",
   "id": "34922ee3",
   "metadata": {},
   "source": [
    "Check the missing values rows"
   ]
  },
  {
   "cell_type": "code",
   "execution_count": null,
   "id": "0eedc696",
   "metadata": {},
   "outputs": [],
   "source": [
    "missing_rows = rest_data[rest_data.isna().any(axis=1)]\n",
    "missing_rows"
   ]
  },
  {
   "cell_type": "markdown",
   "id": "3136cdcb",
   "metadata": {},
   "source": [
    "Check if these establishment name appear elsewhere in the data. If so we will apply the chain type of them. else, we will delete it."
   ]
  },
  {
   "cell_type": "code",
   "execution_count": null,
   "id": "3fa000f7",
   "metadata": {
    "scrolled": true
   },
   "outputs": [],
   "source": [
    "array = missing_rows['object_name']\n",
    "df = rest_data.loc[rest_data['object_name'].isin(array)]\n",
    "df"
   ]
  },
  {
   "cell_type": "markdown",
   "id": "d3cbe8fe",
   "metadata": {},
   "source": [
    "They appear only once. Since we don't have important information about them we will delete them"
   ]
  },
  {
   "cell_type": "code",
   "execution_count": null,
   "id": "757e832f",
   "metadata": {},
   "outputs": [],
   "source": [
    "rest_data.dropna(inplace=True)"
   ]
  },
  {
   "cell_type": "code",
   "execution_count": null,
   "id": "0ec8b89e",
   "metadata": {},
   "outputs": [],
   "source": [
    "rest_data[rest_data.isna().any(axis=1)]"
   ]
  },
  {
   "cell_type": "markdown",
   "id": "19e56b7b",
   "metadata": {},
   "source": [
    "ok"
   ]
  },
  {
   "cell_type": "markdown",
   "id": "49274447",
   "metadata": {},
   "source": [
    "Change chain to categorical instead of object"
   ]
  },
  {
   "cell_type": "code",
   "execution_count": null,
   "id": "c847d4a1",
   "metadata": {},
   "outputs": [],
   "source": [
    "rest_data['chain'] = rest_data['chain'].astype('category')"
   ]
  },
  {
   "cell_type": "markdown",
   "id": "cd1a9de8",
   "metadata": {},
   "source": [
    "Check if id numbers are unique"
   ]
  },
  {
   "cell_type": "code",
   "execution_count": null,
   "id": "c28720fb",
   "metadata": {
    "scrolled": true
   },
   "outputs": [],
   "source": [
    "rest_data['id'].nunique()"
   ]
  },
  {
   "cell_type": "markdown",
   "id": "9304999f",
   "metadata": {},
   "source": [
    "Yes, id numbers are unique"
   ]
  },
  {
   "cell_type": "markdown",
   "id": "1e441059",
   "metadata": {},
   "source": [
    "Lets see how the chain diverse"
   ]
  },
  {
   "cell_type": "code",
   "execution_count": null,
   "id": "811b435b",
   "metadata": {},
   "outputs": [],
   "source": [
    "rest_data['chain'].value_counts()"
   ]
  },
  {
   "cell_type": "markdown",
   "id": "be1472b8",
   "metadata": {},
   "source": [
    "Looks ok"
   ]
  },
  {
   "cell_type": "markdown",
   "id": "60539aa2",
   "metadata": {},
   "source": [
    "Lets see if we have duplicates of same establishment in the same address"
   ]
  },
  {
   "cell_type": "code",
   "execution_count": null,
   "id": "f807380e",
   "metadata": {},
   "outputs": [],
   "source": [
    "rest_data.groupby(['object_name', 'address'])['id'].count()"
   ]
  },
  {
   "cell_type": "markdown",
   "id": "acdbcaf3",
   "metadata": {},
   "source": [
    "There are no more than one establishment in the same address. "
   ]
  },
  {
   "cell_type": "markdown",
   "id": "84dd0b76",
   "metadata": {},
   "source": [
    "# Step 2. Data analysis"
   ]
  },
  {
   "cell_type": "markdown",
   "id": "cc5ab247",
   "metadata": {},
   "source": [
    "## Investigate the proportions of the various types of establishments. Plot a graph.\n"
   ]
  },
  {
   "cell_type": "markdown",
   "id": "985816a2",
   "metadata": {},
   "source": [
    "We'll plot a pie plot to see proportion"
   ]
  },
  {
   "cell_type": "code",
   "execution_count": null,
   "id": "e6b85f69",
   "metadata": {
    "scrolled": false
   },
   "outputs": [],
   "source": [
    "df = rest_data.groupby('object_type')['id'].count().reset_index()\n",
    "fig = px.pie(df, names='object_type', values='id', title='Proportions of various types of establishments')\n",
    "fig.show()"
   ]
  },
  {
   "cell_type": "markdown",
   "id": "0b377d36",
   "metadata": {},
   "source": [
    "Most popular establishments is restaurant"
   ]
  },
  {
   "cell_type": "markdown",
   "id": "f50039e5",
   "metadata": {},
   "source": [
    "## Investigate the proportions of chain and nonchain establishments. Plot a graph.\n"
   ]
  },
  {
   "cell_type": "markdown",
   "id": "f6527d77",
   "metadata": {},
   "source": [
    "We'll plot a pie plot to see proportion"
   ]
  },
  {
   "cell_type": "code",
   "execution_count": null,
   "id": "a1dde1ef",
   "metadata": {
    "scrolled": false
   },
   "outputs": [],
   "source": [
    "df = rest_data.groupby('chain')['id'].count().reset_index()\n",
    "fig = px.pie(df, names='chain', values='id', title='Proportions of chain and nonchain establishments')\n",
    "fig.show()"
   ]
  },
  {
   "cell_type": "markdown",
   "id": "d65ba12a",
   "metadata": {},
   "source": [
    "Larger amount of the establishments are non chain"
   ]
  },
  {
   "cell_type": "markdown",
   "id": "a0347a28",
   "metadata": {},
   "source": [
    "## Which type of establishment is typically a chain?\n"
   ]
  },
  {
   "cell_type": "code",
   "execution_count": null,
   "id": "de1e4308",
   "metadata": {},
   "outputs": [],
   "source": [
    "df = rest_data.pivot_table(\n",
    "    index=['object_type', 'chain'],\n",
    "    values='id',\n",
    "    aggfunc='count'\n",
    ").reset_index()\n",
    "df"
   ]
  },
  {
   "cell_type": "markdown",
   "id": "4982b63c",
   "metadata": {},
   "source": [
    "Bakery is **always** a chain"
   ]
  },
  {
   "cell_type": "code",
   "execution_count": null,
   "id": "63e3a096",
   "metadata": {
    "scrolled": false
   },
   "outputs": [],
   "source": [
    "rest_data['count'] = 1\n",
    "fig = px.sunburst(rest_data, path=['object_type', 'chain'], values='count')\n",
    "fig.show()"
   ]
  },
  {
   "cell_type": "markdown",
   "id": "29ef9d78",
   "metadata": {},
   "source": [
    "We can see the share of chains (true) and non chain (false) from all type of places. We can see bakery are only true since they all chains."
   ]
  },
  {
   "cell_type": "markdown",
   "id": "79f3d0b5",
   "metadata": {},
   "source": [
    "## What characterizes chains: many establishments with a small number of seats or a few establishments with a lot of seats?"
   ]
  },
  {
   "cell_type": "code",
   "execution_count": null,
   "id": "40c17e51",
   "metadata": {
    "scrolled": false
   },
   "outputs": [],
   "source": [
    "df = rest_data.loc[rest_data['chain']==True].groupby(\n",
    "    'object_name').agg({'id':'count', 'number':'mean'}).reset_index()\n",
    "df.columns = ['object_name', 'number_of_restaurants', 'average_number_of_seats']\n",
    "fig = px.scatter(df, x=\"number_of_restaurants\", y=\"average_number_of_seats\")\n",
    "fig.update_layout(\n",
    "    title=\"establishments characterize by number of restaurants and seats\"\n",
    ")\n",
    "fig.show()\n",
    "\n"
   ]
  },
  {
   "cell_type": "markdown",
   "id": "23d6921b",
   "metadata": {},
   "source": [
    "Chains characterize by few establishments with a lot of seats rather than many establishments with a small number of seats"
   ]
  },
  {
   "cell_type": "markdown",
   "id": "a982c59e",
   "metadata": {},
   "source": [
    "## Determine the average number of seats for each type of restaurant. On average, which type of restaurant has the greatest number of seats? Plot graphs."
   ]
  },
  {
   "cell_type": "code",
   "execution_count": null,
   "id": "bbd577b8",
   "metadata": {
    "scrolled": false
   },
   "outputs": [],
   "source": [
    "df = rest_data.groupby('object_type')['number'].mean().reset_index().sort_values(by='number')\n",
    "fig = px.bar(df, x='object_type', y='number')\n",
    "fig.update_layout(\n",
    "    title=\"Number of seats for each type of restaurant\",\n",
    "    xaxis_title=\"type of restaurant\",\n",
    "    yaxis_title=\"average number of seats\"   \n",
    ")\n",
    "fig.show()\n",
    "df"
   ]
  },
  {
   "cell_type": "markdown",
   "id": "923ab988",
   "metadata": {},
   "source": [
    "Restaurant has the greatest number of seats"
   ]
  },
  {
   "cell_type": "markdown",
   "id": "59cabe68",
   "metadata": {},
   "source": [
    "## Put the data on street names from the address column in a separate column."
   ]
  },
  {
   "cell_type": "markdown",
   "id": "44b08a59",
   "metadata": {},
   "source": [
    "Use a function to take just the street name "
   ]
  },
  {
   "cell_type": "code",
   "execution_count": null,
   "id": "9a369708",
   "metadata": {},
   "outputs": [],
   "source": [
    "def cleaning_final(raw):\n",
    "    if raw.startswith('OLVERA'):\n",
    "        clean_adress='OLVERA,Los Angeles,USA'\n",
    "    elif raw.startswith('1033 1/2 LOS ANGELES'):\n",
    "        clean_adress='1033 1/2 LOS ANGELES ST,Los Angeles,USA'\n",
    "    else:\n",
    "        raw_address=usaddress.parse(raw)\n",
    "        dict_address={}\n",
    "        for i in raw_address:\n",
    "            dict_address.update({i[1]:i[0]})\n",
    "        clean_adress=str(dict_address['StreetName'])\n",
    "    return clean_adress"
   ]
  },
  {
   "cell_type": "code",
   "execution_count": null,
   "id": "7811ca59",
   "metadata": {
    "scrolled": true
   },
   "outputs": [],
   "source": [
    "rest_data['clean_street_final']=rest_data.address.apply(cleaning_final)\n",
    "rest_data.sample(10)"
   ]
  },
  {
   "cell_type": "markdown",
   "id": "5f946275",
   "metadata": {},
   "source": [
    "Worked!"
   ]
  },
  {
   "cell_type": "markdown",
   "id": "04b1f30c",
   "metadata": {},
   "source": [
    "## Plot a graph of the top ten streets by number of restaurants."
   ]
  },
  {
   "cell_type": "code",
   "execution_count": null,
   "id": "26c2eb30",
   "metadata": {
    "scrolled": false
   },
   "outputs": [],
   "source": [
    "df = rest_data.groupby(\n",
    "    'clean_street_final')['id'].count().reset_index().sort_values(by='id', ascending=False).head(10)\n",
    "fig = px.bar(df, x='clean_street_final', y='id')\n",
    "fig.update_layout(\n",
    "    title=\"Top ten streets by number of restaurants\",\n",
    "    xaxis_title=\"streets name\",\n",
    "    yaxis_title=\"number of restaurants\"   \n",
    ")\n",
    "fig.show()"
   ]
  },
  {
   "cell_type": "markdown",
   "id": "f6d03755",
   "metadata": {},
   "source": [
    "On the lead Sunset with 404 establishments and Wilshire with 398 establishments."
   ]
  },
  {
   "cell_type": "markdown",
   "id": "8b126a46",
   "metadata": {},
   "source": [
    "## Find the number of streets that only have one restaurant."
   ]
  },
  {
   "cell_type": "code",
   "execution_count": null,
   "id": "76d74643",
   "metadata": {},
   "outputs": [],
   "source": [
    "number_of_streets = rest_data.groupby(\n",
    "    'clean_street_final'\n",
    ")['id'].count().reset_index().sort_values(by='id').query('id == 1').shape[0]\n",
    "f'There are {number_of_streets} streets with only one restaurant.'"
   ]
  },
  {
   "cell_type": "markdown",
   "id": "c9a078b0",
   "metadata": {},
   "source": [
    "## For streets with a lot of restaurants, look at the distribution of the number of seats. What trends can you see?"
   ]
  },
  {
   "cell_type": "code",
   "execution_count": null,
   "id": "b57620ff",
   "metadata": {
    "scrolled": false
   },
   "outputs": [],
   "source": [
    "# Let's split the data to have only information about the 10 most busy streets\n",
    "busy_streets = rest_data.groupby(\n",
    "    'clean_street_final')['id'].count().reset_index().sort_values(by='id', ascending=False).head(10)\n",
    "# get array of the busy streets\n",
    "array = busy_streets['clean_street_final'].to_list()\n",
    "# filter df by these streets \n",
    "df = rest_data.loc[rest_data['clean_street_final'].isin(array)]\n",
    "fig = px.histogram(df, x=\"number\")\n",
    "fig.update_layout(\n",
    "    title=\"Distribution of the number of seats\")\n",
    "fig.show()\n"
   ]
  },
  {
   "cell_type": "markdown",
   "id": "41e80b2c",
   "metadata": {},
   "source": [
    "Most of places have less than 50 seats"
   ]
  },
  {
   "cell_type": "code",
   "execution_count": null,
   "id": "d1754d49",
   "metadata": {
    "scrolled": true
   },
   "outputs": [],
   "source": [
    "df"
   ]
  },
  {
   "cell_type": "code",
   "execution_count": null,
   "id": "1ea702d7",
   "metadata": {
    "scrolled": false
   },
   "outputs": [],
   "source": [
    "fig = px.box(df, x=\"number\", y=\"object_type\")\n",
    "fig.show()"
   ]
  },
  {
   "cell_type": "markdown",
   "id": "cca05c22",
   "metadata": {},
   "source": [
    "Restaurants and bars have the largest amount of seats. On bars as apposed to restaurants except of one location all the places are close by number of seats. "
   ]
  },
  {
   "cell_type": "code",
   "execution_count": null,
   "id": "0aec73c3",
   "metadata": {
    "scrolled": false
   },
   "outputs": [],
   "source": [
    "fig = px.box(df, x=\"number\", y=\"clean_street_final\")\n",
    "fig.show()"
   ]
  },
  {
   "cell_type": "markdown",
   "id": "36878ef0",
   "metadata": {},
   "source": [
    "#### On Wilshire and Hollywood there is the largest difference between the first quartile and the 4th (IQR) "
   ]
  },
  {
   "cell_type": "markdown",
   "id": "4592f49b",
   "metadata": {},
   "source": [
    "## Draw an overall conclusion and provide recommendations on restaurant type and number of seats. Comment on the possibility of developing a chain."
   ]
  },
  {
   "cell_type": "markdown",
   "id": "713e2802",
   "metadata": {},
   "source": [
    "We don't have a measurement of success to the places we see on the data. We can only tell few characteristics like location, number of seats, part of a branch and type of restaurant. We will start from a premise that the  more common a particular type it is the more likely it is to be successful and otherwise there would have been few of it. So we will recommend to open a restaurant from type restaurant. Put between 45 to 50 seats. Set the place in one of the 10 most crowded streets. Since the majority of restaurant from type restaurant are not part of chain we will recommend not to develop in this direction."
   ]
  },
  {
   "cell_type": "markdown",
   "id": "f5856c33",
   "metadata": {},
   "source": [
    "# Step 3. Preparing a presentation"
   ]
  },
  {
   "cell_type": "markdown",
   "id": "244c724b",
   "metadata": {},
   "source": [
    "Presentation: <https://drive.google.com/file/d/1cEvIlgGtzADGJ2k-fljdDgFS8xeSv2yH/view?usp=sharing>"
   ]
  }
 ],
 "metadata": {
  "ExecuteTimeLog": [
   {
    "duration": 6229,
    "start_time": "2022-04-13T08:02:34.315Z"
   },
   {
    "duration": 1594,
    "start_time": "2022-04-13T08:02:40.546Z"
   },
   {
    "duration": 203,
    "start_time": "2022-04-13T08:02:42.142Z"
   },
   {
    "duration": 14,
    "start_time": "2022-04-13T08:02:42.347Z"
   },
   {
    "duration": 13,
    "start_time": "2022-04-13T08:02:42.363Z"
   },
   {
    "duration": 7,
    "start_time": "2022-04-13T08:02:42.378Z"
   },
   {
    "duration": 6,
    "start_time": "2022-04-13T08:02:42.387Z"
   },
   {
    "duration": 55,
    "start_time": "2022-04-13T08:02:42.395Z"
   },
   {
    "duration": 7167,
    "start_time": "2022-04-13T08:02:42.452Z"
   },
   {
    "duration": 53,
    "start_time": "2022-04-13T08:02:49.621Z"
   },
   {
    "duration": 71,
    "start_time": "2022-04-13T08:02:49.676Z"
   },
   {
    "duration": 295,
    "start_time": "2022-04-13T08:02:49.749Z"
   },
   {
    "duration": 63,
    "start_time": "2022-04-13T08:02:50.046Z"
   },
   {
    "duration": 15,
    "start_time": "2022-04-13T08:02:50.111Z"
   },
   {
    "duration": 1371,
    "start_time": "2022-04-13T08:02:50.131Z"
   },
   {
    "duration": 80,
    "start_time": "2022-04-13T08:02:51.504Z"
   },
   {
    "duration": 14,
    "start_time": "2022-04-13T08:02:51.586Z"
   },
   {
    "duration": 176,
    "start_time": "2022-04-13T08:02:51.602Z"
   },
   {
    "duration": 7147,
    "start_time": "2022-04-13T20:38:57.528Z"
   },
   {
    "duration": 1561,
    "start_time": "2022-04-13T20:39:04.678Z"
   },
   {
    "duration": 117,
    "start_time": "2022-04-13T20:39:06.242Z"
   },
   {
    "duration": 18,
    "start_time": "2022-04-13T20:39:06.362Z"
   },
   {
    "duration": 17,
    "start_time": "2022-04-13T20:39:06.382Z"
   },
   {
    "duration": 17,
    "start_time": "2022-04-13T20:39:06.401Z"
   },
   {
    "duration": 43,
    "start_time": "2022-04-13T20:39:06.420Z"
   },
   {
    "duration": 11,
    "start_time": "2022-04-13T20:39:06.466Z"
   },
   {
    "duration": 12,
    "start_time": "2022-04-13T20:39:06.479Z"
   },
   {
    "duration": 6,
    "start_time": "2022-04-13T20:39:06.496Z"
   },
   {
    "duration": 7,
    "start_time": "2022-04-13T20:39:06.504Z"
   },
   {
    "duration": 45,
    "start_time": "2022-04-13T20:39:06.513Z"
   },
   {
    "duration": 35,
    "start_time": "2022-04-13T20:39:06.561Z"
   },
   {
    "duration": 557,
    "start_time": "2022-04-13T20:39:06.598Z"
   },
   {
    "duration": 111,
    "start_time": "2022-04-13T20:39:07.157Z"
   },
   {
    "duration": 32,
    "start_time": "2022-04-13T20:39:07.270Z"
   },
   {
    "duration": 299,
    "start_time": "2022-04-13T20:39:07.353Z"
   },
   {
    "duration": 120,
    "start_time": "2022-04-13T20:39:07.654Z"
   },
   {
    "duration": 110,
    "start_time": "2022-04-13T20:39:07.776Z"
   },
   {
    "duration": 6,
    "start_time": "2022-04-13T20:39:07.888Z"
   },
   {
    "duration": 1892,
    "start_time": "2022-04-13T20:39:07.896Z"
   },
   {
    "duration": 89,
    "start_time": "2022-04-13T20:39:09.790Z"
   },
   {
    "duration": 14,
    "start_time": "2022-04-13T20:39:09.882Z"
   },
   {
    "duration": 190,
    "start_time": "2022-04-13T20:39:09.898Z"
   },
   {
    "duration": 28,
    "start_time": "2022-04-13T20:39:10.090Z"
   },
   {
    "duration": 159,
    "start_time": "2022-04-13T20:39:10.121Z"
   },
   {
    "duration": 125,
    "start_time": "2022-04-13T20:39:10.283Z"
   },
   {
    "duration": 0,
    "start_time": "2022-04-14T04:57:33.636Z"
   },
   {
    "duration": 0,
    "start_time": "2022-04-14T04:57:33.637Z"
   },
   {
    "duration": 0,
    "start_time": "2022-04-14T04:57:33.638Z"
   },
   {
    "duration": 0,
    "start_time": "2022-04-14T04:57:33.639Z"
   },
   {
    "duration": 0,
    "start_time": "2022-04-14T04:57:33.640Z"
   },
   {
    "duration": 0,
    "start_time": "2022-04-14T04:57:33.641Z"
   },
   {
    "duration": 0,
    "start_time": "2022-04-14T04:57:33.642Z"
   },
   {
    "duration": 0,
    "start_time": "2022-04-14T04:57:33.643Z"
   },
   {
    "duration": 0,
    "start_time": "2022-04-14T04:57:33.644Z"
   },
   {
    "duration": 0,
    "start_time": "2022-04-14T04:57:33.645Z"
   },
   {
    "duration": 0,
    "start_time": "2022-04-14T04:57:33.646Z"
   },
   {
    "duration": 0,
    "start_time": "2022-04-14T04:57:33.647Z"
   },
   {
    "duration": 0,
    "start_time": "2022-04-14T04:57:33.648Z"
   },
   {
    "duration": 0,
    "start_time": "2022-04-14T04:57:33.650Z"
   },
   {
    "duration": 0,
    "start_time": "2022-04-14T04:57:33.651Z"
   },
   {
    "duration": 0,
    "start_time": "2022-04-14T04:57:33.652Z"
   },
   {
    "duration": 0,
    "start_time": "2022-04-14T04:57:33.653Z"
   },
   {
    "duration": 0,
    "start_time": "2022-04-14T04:57:33.654Z"
   },
   {
    "duration": 0,
    "start_time": "2022-04-14T04:57:33.655Z"
   },
   {
    "duration": 0,
    "start_time": "2022-04-14T04:57:33.656Z"
   },
   {
    "duration": 0,
    "start_time": "2022-04-14T04:57:33.657Z"
   },
   {
    "duration": 0,
    "start_time": "2022-04-14T04:57:33.659Z"
   },
   {
    "duration": 0,
    "start_time": "2022-04-14T04:57:33.660Z"
   },
   {
    "duration": 0,
    "start_time": "2022-04-14T04:57:33.661Z"
   },
   {
    "duration": 0,
    "start_time": "2022-04-14T04:57:33.662Z"
   },
   {
    "duration": 0,
    "start_time": "2022-04-14T04:57:33.664Z"
   },
   {
    "duration": 0,
    "start_time": "2022-04-14T04:57:33.665Z"
   }
  ],
  "kernelspec": {
   "display_name": "Python 3 (ipykernel)",
   "language": "python",
   "name": "python3"
  },
  "language_info": {
   "codemirror_mode": {
    "name": "ipython",
    "version": 3
   },
   "file_extension": ".py",
   "mimetype": "text/x-python",
   "name": "python",
   "nbconvert_exporter": "python",
   "pygments_lexer": "ipython3",
   "version": "3.9.7"
  },
  "toc": {
   "base_numbering": 1,
   "nav_menu": {},
   "number_sections": true,
   "sideBar": true,
   "skip_h1_title": false,
   "title_cell": "Table of Contents",
   "title_sidebar": "Contents",
   "toc_cell": false,
   "toc_position": {},
   "toc_section_display": true,
   "toc_window_display": true
  }
 },
 "nbformat": 4,
 "nbformat_minor": 5
}
